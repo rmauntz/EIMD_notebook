{
 "metadata": {
  "name": "",
  "signature": "sha256:c98ed3ee585892a998c2058374d05aeef82eff840b0d8a5493da7a96a011c139"
 },
 "nbformat": 3,
 "nbformat_minor": 0,
 "worksheets": [
  {
   "cells": [
    {
     "cell_type": "code",
     "collapsed": false,
     "input": [
      "pwd"
     ],
     "language": "python",
     "metadata": {},
     "outputs": [
      {
       "metadata": {},
       "output_type": "pyout",
       "prompt_number": 1,
       "text": [
        "u'C:\\\\Users\\\\user\\\\Documents\\\\IPython_Notebooks'"
       ]
      }
     ],
     "prompt_number": 1
    },
    {
     "cell_type": "code",
     "collapsed": false,
     "input": [
      "!head C:\\Users\\user\\Documents\\IPython_Notebooks\\Pm_genes.fasta"
     ],
     "language": "python",
     "metadata": {},
     "outputs": [
      {
       "output_type": "stream",
       "stream": "stdout",
       "text": [
        ">PMI_010847-RA\n",
        "GCTAACATAGAGATCTTCCTGCCACGGATCGAGGCAGTGGTCCTGTTCGGTGAGCCGGTC\n",
        "AGGTGGGAGACCAATCTCCAGCTGATTTTGGACATGTTGATCACCAACGGTCAGCTAAAC\n",
        "CACACCCCTGACCACGTCCCGTACCCTAACATGCCGGTCCTTGGATGCAACGTGGATCTC\n",
        "ATGTGGATGTCCGAGGCTCATCTACCAAGGTTAGGACATGGCTCTTTCATGGTGTGCCTA\n",
        "GAATCACTTTACAAGAAAATCACAGGTCGGGATCTGCTGTACACCGTTCTGACGGGCAAA\n",
        "CCTAGTCAGATAACGTACCACTGTGCTGAGAATGTACTAAGCCAACAAGCGAGGGCCATG\n",
        "GGATGTCAGGGCCCACTCCGAACACTCTATGCCATTGGTGACAACCCGATGACCGACATC\n",
        "TACGGGGCCAATCTGTACAACCAGTACCTCACAGCGAAAGCTGCTAAAGGCCTACAGAAA\n",
        "CCAGGTAGCCGCCAGCCAGCGGCCATACGCCAGGGCGTGGTCATGTCCGATCCCCACGAC\n"
       ]
      }
     ],
     "prompt_number": 2
    },
    {
     "cell_type": "raw",
     "metadata": {},
     "source": [
      "#Pm_genes.fasta is the patiria miniata (bat star) transcriptom available for download from http://www.spbase.org/SpBase/download/"
     ]
    },
    {
     "cell_type": "code",
     "collapsed": false,
     "input": [
      "!wc C:\\Users\\user\\Documents\\IPython_Notebooks\\Pm_genes.fasta"
     ],
     "language": "python",
     "metadata": {},
     "outputs": [
      {
       "output_type": "stream",
       "stream": "stdout",
       "text": [
        "  613310   613310 35186335 C:\\Users\\user\\Documents\\IPython_Notebooks\\Pm_genes.fasta\n"
       ]
      }
     ],
     "prompt_number": 3
    },
    {
     "cell_type": "code",
     "collapsed": false,
     "input": [
      "!fgrep -c 'PMI' C:\\Users\\user\\Documents\\IPython_Notebooks\\Pm_genes.fasta"
     ],
     "language": "python",
     "metadata": {},
     "outputs": [
      {
       "output_type": "stream",
       "stream": "stdout",
       "text": [
        "29805\n"
       ]
      }
     ],
     "prompt_number": 4
    },
    {
     "cell_type": "code",
     "collapsed": false,
     "input": [
      "!C:\\\\Users\\\\user\\\\Documents\\\\IPython_Notebooks\\blast\\bin\\blastn -h"
     ],
     "language": "python",
     "metadata": {},
     "outputs": [
      {
       "output_type": "stream",
       "stream": "stdout",
       "text": [
        "USAGE\n",
        "  blastn [-h] [-help] [-import_search_strategy filename]\n",
        "    [-export_search_strategy filename] [-task task_name] [-db database_name]\n",
        "    [-dbsize num_letters] [-gilist filename] [-seqidlist filename]\n",
        "    [-negative_gilist filename] [-entrez_query entrez_query]\n",
        "    [-db_soft_mask filtering_algorithm] [-db_hard_mask filtering_algorithm]\n",
        "    [-subject subject_input_file] [-subject_loc range] [-query input_file]\n",
        "    [-out output_file] [-evalue evalue] [-word_size int_value]\n",
        "    [-gapopen open_penalty] [-gapextend extend_penalty]\n",
        "    [-perc_identity float_value] [-xdrop_ungap float_value]\n",
        "    [-xdrop_gap float_value] [-xdrop_gap_final float_value]\n",
        "    [-searchsp int_value] [-max_hsps int_value] [-sum_statistics]\n",
        "    [-penalty penalty] [-reward reward] [-no_greedy]\n",
        "    [-min_raw_gapped_score int_value] [-template_type type]\n",
        "    [-template_length int_value] [-dust DUST_options]\n",
        "    [-filtering_db filtering_database]\n",
        "    [-window_masker_taxid window_masker_taxid]\n",
        "    [-window_masker_db window_masker_db] [-soft_masking soft_masking]\n",
        "    [-ungapped] [-culling_limit int_value] [-best_hit_overhang float_value]\n",
        "    [-best_hit_score_edge float_value] [-window_size int_value]\n",
        "    [-off_diagonal_range int_value] [-use_index boolean] [-index_name string]\n",
        "    [-lcase_masking] [-query_loc range] [-strand strand] [-parse_deflines]\n",
        "    [-outfmt format] [-show_gis] [-num_descriptions int_value]\n",
        "    [-num_alignments int_value] [-html] [-max_target_seqs num_sequences]\n",
        "    [-num_threads int_value] [-remote] [-version]\n",
        "\n",
        "DESCRIPTION\n",
        "   Nucleotide-Nucleotide BLAST 2.2.29+\n",
        "\n",
        "Use '-help' to print detailed descriptions of command line arguments\n"
       ]
      }
     ],
     "prompt_number": 5
    },
    {
     "cell_type": "code",
     "collapsed": false,
     "input": [
      "!blastn \\\n",
      "-query C:\\Users\\user\\Documents\\IPython_Notebooks\\Pm_genes.fasta \\\n",
      "-db C:\\Users\\user\\Documents\\IPython_Notebooks\\blast\\bin\\databases\\Phel_transcriptome_clc \\\n",
      "-out C:\\Users\\user\\Documents\\IPython_Notebooks\\Output\\batstar_hel_ntblast2 \\\n",
      "-evalue 1E-05 \\\n",
      "-max_target_seqs 5 \\\n",
      "-outfmt 6 \\\n",
      "-num_threads 4 \\"
     ],
     "language": "python",
     "metadata": {},
     "outputs": [],
     "prompt_number": 6
    },
    {
     "cell_type": "code",
     "collapsed": false,
     "input": [
      "!wc C:\\Users\\user\\Documents\\IPython_Notebooks\\Output\\batstar_hel_ntblast2"
     ],
     "language": "python",
     "metadata": {},
     "outputs": [
      {
       "output_type": "stream",
       "stream": "stdout",
       "text": [
        "  3460  41520 279940 C:\\Users\\user\\Documents\\IPython_Notebooks\\Output\\batstar_hel_ntblast2\n"
       ]
      }
     ],
     "prompt_number": 7
    },
    {
     "cell_type": "code",
     "collapsed": false,
     "input": [
      "!head C:\\Users\\user\\Documents\\IPython_Notebooks\\Output\\batstar_hel_ntblast"
     ],
     "language": "python",
     "metadata": {},
     "outputs": [
      {
       "output_type": "stream",
       "stream": "stdout",
       "text": [
        "PMI_005730-RA\tPhel_clc_contig_14067\t77.94\t408\t86\t4\t52\t457\t2552\t2147\t4e-066\t  252\n",
        "PMI_028366-RA\tPhel_clc_contig_1561\t77.05\t183\t40\t2\t2038\t2219\t3895\t4076\t3e-021\t  104\n",
        "PMI_018581-RA\tPhel_clc_contig_7180\t78.08\t689\t135\t13\t748\t1425\t946\t263\t5e-117\t  422\n",
        "PMI_016388-RA\tPhel_clc_contig_9391\t73.66\t391\t97\t6\t22\t409\t1305\t918\t1e-034\t  147\n",
        "PMI_016388-RA\tPhel_clc_contig_17473\t80.32\t188\t30\t7\t163\t347\t35\t218\t3e-031\t  135\n",
        "PMI_016388-RA\tPhel_clc_contig_9910\t73.53\t374\t89\t10\t52\t420\t1974\t1606\t1e-030\t  134\n",
        "PMI_016388-RA\tPhel_clc_contig_14428\t79.56\t181\t33\t4\t34\t212\t1855\t2033\t2e-028\t  126\n",
        "PMI_007351-RA\tPhel_clc_contig_29013\t84.98\t233\t35\t0\t319\t551\t202\t434\t2e-061\t  237\n",
        "PMI_007347-RA\tPhel_clc_contig_5857\t82.88\t917\t157\t0\t181\t1097\t1123\t207\t0.0\t  824\n",
        "PMI_012824-RA\tPhel_clc_contig_13029\t84.10\t283\t44\t1\t1\t282\t61\t343\t2e-072\t  272\n"
       ]
      }
     ],
     "prompt_number": 8
    },
    {
     "cell_type": "code",
     "collapsed": false,
     "input": [
      "!fgrep -c 'PMI' C:\\Users\\user\\Documents\\IPython_Notebooks\\Output\\batstar_hel_ntblast"
     ],
     "language": "python",
     "metadata": {},
     "outputs": [
      {
       "output_type": "stream",
       "stream": "stdout",
       "text": [
        "3407\n"
       ]
      }
     ],
     "prompt_number": 9
    },
    {
     "cell_type": "code",
     "collapsed": false,
     "input": [],
     "language": "python",
     "metadata": {},
     "outputs": []
    }
   ],
   "metadata": {}
  }
 ]
}